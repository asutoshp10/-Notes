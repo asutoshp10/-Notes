{
 "cells": [
  {
   "cell_type": "code",
   "execution_count": 44,
   "id": "9eef3426-8e40-4528-975b-78b938063fe8",
   "metadata": {},
   "outputs": [],
   "source": [
    "#loggning is used to make a file where all the logging statement are saved accr to given format so taht it can be invested further.\n",
    "#logging only takes string value.\n",
    "# 1st of all u need to import logging module\n",
    "import logging"
   ]
  },
  {
   "cell_type": "code",
   "execution_count": 45,
   "id": "e5cd4ae2-aaf8-4799-8f37-1da34645a105",
   "metadata": {},
   "outputs": [],
   "source": [
    "#now we need to set the format of how we want to save our statement.\n",
    "# we need to set basic configuration in the form of \"**kwargs\""
   ]
  },
  {
   "cell_type": "markdown",
   "id": "ea01efcc-ce84-47c2-9687-d857d1767167",
   "metadata": {},
   "source": [
    "levels are-:\n",
    "\n",
    "--NOTSET\n",
    "\n",
    "--DEBUG\n",
    "\n",
    "--INFO\n",
    "\n",
    "--WARNING\n",
    "\n",
    "--CRITICAL\n",
    "\n",
    "Here if you wana access any level u should set the level at that or above that level. Eg. If u set at INFO then you can access to [INFO , WARNING , CRITICAL]"
   ]
  },
  {
   "cell_type": "code",
   "execution_count": 46,
   "id": "e07b800e-0195-4847-8ddd-6593a8a240f2",
   "metadata": {},
   "outputs": [],
   "source": [
    "#           *\"C\" is capital                                          *for time         \n",
    "logging.basicConfig(filename='text.log',level=logging.DEBUG,format='%(asctime)s  %(levelname)s  %(message)s')"
   ]
  },
  {
   "cell_type": "code",
   "execution_count": 47,
   "id": "f4ce9112-c35e-4fc3-957e-78c710a26eea",
   "metadata": {},
   "outputs": [],
   "source": [
    "#here info,debug,etc are in small\n",
    "logging.info('This is info statement')\n",
    "logging.debug('This is debug statement')\n",
    "logging.warning('This is warning statement')\n",
    "logging.critical('This is critical statement')"
   ]
  },
  {
   "cell_type": "code",
   "execution_count": 48,
   "id": "415aa60d-c6ee-4e03-97eb-97b5fe937be7",
   "metadata": {},
   "outputs": [],
   "source": [
    "# we need to close it by writting shutdown\n",
    "logging.shutdown()"
   ]
  },
  {
   "cell_type": "code",
   "execution_count": 49,
   "id": "74dd4dfb-95e5-432c-afb4-da0b32bdef0f",
   "metadata": {},
   "outputs": [],
   "source": [
    "import logging"
   ]
  },
  {
   "cell_type": "code",
   "execution_count": 51,
   "id": "e1d83b55-a698-4bfc-a8d5-175dbe2a9fdb",
   "metadata": {},
   "outputs": [],
   "source": [
    "logging.basicConfig(filename='text11.log',level=logging.DEBUG,format='%(acstime)s,  %(levelname)s  %(message)s')"
   ]
  },
  {
   "cell_type": "code",
   "execution_count": 52,
   "id": "ca8ca566-9b6d-441f-8664-4cf645f5879e",
   "metadata": {},
   "outputs": [],
   "source": [
    "l=[1,2,3,6,[2,3,'asu','bun',23,',ap'],'asutosh',67,'bunty',34]"
   ]
  },
  {
   "cell_type": "code",
   "execution_count": 53,
   "id": "e8f255db-9685-48a4-8b9d-ad56ecfde031",
   "metadata": {},
   "outputs": [],
   "source": [
    "l1,l2=[],[]\n",
    "for i in l:\n",
    "    logging.info('1st for-loop is running to separate variable')\n",
    "    if type(i)==list:\n",
    "        logging.info('found list inside list')\n",
    "        for j in i:\n",
    "            logging.info('2nd for-loop is running to separate list inside list')\n",
    "            if type(j)==int:\n",
    "                logging.info('found integer typr in a list inside a list')\n",
    "                l1.append(j)\n",
    "            else :\n",
    "                logging.info('found string type in a list inside list')\n",
    "                l2.append(j)\n",
    "    elif type(i)==int:\n",
    "        logging.info('found integer type inside list')\n",
    "        l1.append(i)\n",
    "    else:\n",
    "        logging.info('found string type inside list')\n",
    "        l2.append(i)\n",
    "logging.info('the final output of intiger type:{int_type} and for string type is:{str_type}'.format(int_type=l1,str_type=l2))"
   ]
  },
  {
   "cell_type": "code",
   "execution_count": null,
   "id": "2d7911bc-6f0d-4ba8-817f-b258f03b0f72",
   "metadata": {},
   "outputs": [],
   "source": []
  },
  {
   "cell_type": "code",
   "execution_count": null,
   "id": "bcc014db-af3b-43de-ab0a-c2146753073a",
   "metadata": {},
   "outputs": [],
   "source": []
  },
  {
   "cell_type": "code",
   "execution_count": null,
   "id": "4ced992b-a379-4308-9f0c-53807c3d0c1e",
   "metadata": {},
   "outputs": [],
   "source": []
  },
  {
   "cell_type": "code",
   "execution_count": null,
   "id": "15825037-37fc-40b1-94f8-d44ee8526a89",
   "metadata": {},
   "outputs": [],
   "source": []
  },
  {
   "cell_type": "code",
   "execution_count": null,
   "id": "38ce33e4-420d-47a2-9a67-05c8bd3cc0bc",
   "metadata": {},
   "outputs": [],
   "source": []
  },
  {
   "cell_type": "code",
   "execution_count": 8,
   "id": "d5e8de50-523a-4107-b54a-27f415c84f5f",
   "metadata": {},
   "outputs": [
    {
     "name": "stdout",
     "output_type": "stream",
     "text": [
      "error: [Errno 2] No such file or directory: 'unknown.txt'\n",
      "if try block staement is not printed then there is an error occured\n"
     ]
    }
   ],
   "source": [
    "#exception handeling\n",
    "# exception handelling has 4 pilliars: try , except , else , finally\n",
    "try :\n",
    "    f=open('unknown.txt','r')\n",
    "except Exception as e :\n",
    "    print('error:',e)\n",
    "print('if try block staement is not printed then there is an error occured')"
   ]
  },
  {
   "cell_type": "code",
   "execution_count": 9,
   "id": "6348bca1-3bc5-4301-80eb-ffec20a58668",
   "metadata": {},
   "outputs": [],
   "source": [
    "# using else, in expeption handelling. Else will onlly be executed when there is no error in try block\n",
    "try:\n",
    "    f=open('ao.txt','w')\n",
    "    f.write('hey guys i am practicing writting practice but cannot type as fast as yesterday because if there is one day gap also then there is a probality that my speed will decrease and i could forget some of the previous teaching so dont take any break')\n",
    "except Exception as e:\n",
    "    print('Error occured:',e)\n",
    "else: \n",
    "    f.close()"
   ]
  },
  {
   "cell_type": "code",
   "execution_count": 12,
   "id": "9df0e141-1e7d-4c22-8de5-2a0a6b46eac7",
   "metadata": {},
   "outputs": [
    {
     "name": "stdout",
     "output_type": "stream",
     "text": [
      "error: [Errno 2] No such file or directory: 'unknown.txt'\n",
      "final statement wii be executed at any situation\n"
     ]
    }
   ],
   "source": [
    "# Finally satement will execute itself at any situation\n",
    "try:\n",
    "    f=open('unknown.txt','r')\n",
    "    f.read()\n",
    "except Exception as e:\n",
    "    print('error:',e)\n",
    "finally:\n",
    "    print('final statement wii be executed at any situation')"
   ]
  },
  {
   "cell_type": "code",
   "execution_count": null,
   "id": "dd6d5659-c0e9-4ee9-a9af-98e32fe9146d",
   "metadata": {},
   "outputs": [],
   "source": []
  },
  {
   "cell_type": "code",
   "execution_count": null,
   "id": "0a7e85c8-7a21-4a8f-b064-83397cb0a555",
   "metadata": {},
   "outputs": [],
   "source": []
  },
  {
   "cell_type": "code",
   "execution_count": null,
   "id": "ae336971-8b09-4018-9782-8cace8260e6e",
   "metadata": {},
   "outputs": [],
   "source": []
  },
  {
   "cell_type": "code",
   "execution_count": 1,
   "id": "486c62ce-9254-4b2c-8487-2a6420ef7626",
   "metadata": {},
   "outputs": [],
   "source": [
    "# Custom exception (making your own exception)\n",
    "class valid_age(Exception):\n",
    "    def __init__(self,msg):\n",
    "        self.msg=msg"
   ]
  },
  {
   "cell_type": "code",
   "execution_count": 2,
   "id": "cd542abc-929e-4350-8c7e-ef1ab1984400",
   "metadata": {},
   "outputs": [],
   "source": [
    "def is_age_valid(age):\n",
    "    if age<=0:\n",
    "        raise valid_age('Entered age is not possible')\n",
    "    else:\n",
    "        raise valid_age('entered age is processing')"
   ]
  },
  {
   "cell_type": "code",
   "execution_count": 6,
   "id": "9d56a81b-df25-4839-9de5-c126de91be99",
   "metadata": {},
   "outputs": [
    {
     "name": "stdin",
     "output_type": "stream",
     "text": [
      "Enter your age -4783\n"
     ]
    },
    {
     "name": "stdout",
     "output_type": "stream",
     "text": [
      "Entered age is not possible\n"
     ]
    }
   ],
   "source": [
    "try:\n",
    "    age=int(input('Enter your age'))\n",
    "    is_age_valid(age)\n",
    "except Exception as e:\n",
    "    print(e)"
   ]
  },
  {
   "cell_type": "code",
   "execution_count": null,
   "id": "9654f5b9-51c6-4779-b496-cb9e1b164a32",
   "metadata": {},
   "outputs": [],
   "source": []
  },
  {
   "cell_type": "code",
   "execution_count": null,
   "id": "8e07e3c1-424a-44ba-8bc1-ab8fae460400",
   "metadata": {},
   "outputs": [],
   "source": []
  },
  {
   "cell_type": "code",
   "execution_count": null,
   "id": "6978cc3e-710e-4bb8-a779-cb53f6db2f12",
   "metadata": {},
   "outputs": [],
   "source": []
  },
  {
   "cell_type": "code",
   "execution_count": 21,
   "id": "147708af-bc27-44f0-83c7-f749d94f282d",
   "metadata": {},
   "outputs": [
    {
     "name": "stdout",
     "output_type": "stream",
     "text": [
      "No module named 'op'\n"
     ]
    }
   ],
   "source": [
    "# Types of error\n",
    "# import error\n",
    "try:\n",
    "    import op\n",
    "except ImportError as e:\n",
    "    print(e)"
   ]
  },
  {
   "cell_type": "code",
   "execution_count": 22,
   "id": "732bb0a8-02a5-43de-91ae-c971510347da",
   "metadata": {},
   "outputs": [
    {
     "name": "stdout",
     "output_type": "stream",
     "text": [
      "it is my choice that if any error occured then this statement will only be printed\n"
     ]
    }
   ],
   "source": [
    "# when no Exception is written , on erroe it will print what u hv given \n",
    "try:\n",
    "    4/0\n",
    "except:\n",
    "    print('it is my choice that if any error occured then this statement will only be printed')"
   ]
  },
  {
   "cell_type": "code",
   "execution_count": 23,
   "id": "f8bc044b-b320-411d-9991-580f4693c6a9",
   "metadata": {},
   "outputs": [
    {
     "name": "stdout",
     "output_type": "stream",
     "text": [
      "'key2'\n"
     ]
    }
   ],
   "source": [
    "#Key error\n",
    "try:\n",
    "    a={'key':'asutosh',1:[1,2,3,4]}\n",
    "    print(a['key2'])\n",
    "except KeyError as e:\n",
    "    print(e)"
   ]
  },
  {
   "cell_type": "code",
   "execution_count": 27,
   "id": "0c1e102e-8f74-47df-a0f3-faa96c56ddbc",
   "metadata": {},
   "outputs": [
    {
     "name": "stdout",
     "output_type": "stream",
     "text": [
      "[Errno 2] No such file or directory: 'asu.txt'\n"
     ]
    }
   ],
   "source": [
    "#flle not found error\n",
    "try:\n",
    "    with open('asu.txt','r') as f:\n",
    "        f.read()\n",
    "except FileNotFoundError as e:\n",
    "    print(e)"
   ]
  },
  {
   "cell_type": "code",
   "execution_count": null,
   "id": "044c22b5-4380-42fc-8e36-d70fd09157f0",
   "metadata": {},
   "outputs": [],
   "source": []
  },
  {
   "cell_type": "code",
   "execution_count": null,
   "id": "47844037-9ab5-4cd7-a7c7-f37dab7d4269",
   "metadata": {},
   "outputs": [],
   "source": []
  },
  {
   "cell_type": "code",
   "execution_count": null,
   "id": "8240eb74-42bf-4bc2-9b66-5c936b069850",
   "metadata": {},
   "outputs": [],
   "source": []
  },
  {
   "cell_type": "code",
   "execution_count": null,
   "id": "518cb0db-ae5e-492a-b7e3-671627161613",
   "metadata": {},
   "outputs": [],
   "source": []
  },
  {
   "cell_type": "markdown",
   "id": "96d60780-246a-410d-a9a3-825429d2f912",
   "metadata": {},
   "source": [
    "Make thes thing as habbits:-\n",
    "* write correct type of error instead of writting 'Exception'.\n",
    "* try to write 'logging' instead of 'print'\n",
    "* also write finally or else statement."
   ]
  }
 ],
 "metadata": {
  "kernelspec": {
   "display_name": "Python 3 (ipykernel)",
   "language": "python",
   "name": "python3"
  },
  "language_info": {
   "codemirror_mode": {
    "name": "ipython",
    "version": 3
   },
   "file_extension": ".py",
   "mimetype": "text/x-python",
   "name": "python",
   "nbconvert_exporter": "python",
   "pygments_lexer": "ipython3",
   "version": "3.10.8"
  }
 },
 "nbformat": 4,
 "nbformat_minor": 5
}
