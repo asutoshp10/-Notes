{
 "cells": [
  {
   "cell_type": "code",
   "execution_count": 14,
   "id": "85e080a8-9bc5-4c4b-98b0-fa17f58c1b63",
   "metadata": {},
   "outputs": [],
   "source": [
    "#How to use class method\n",
    "class ap:\n",
    "    def __init__(self,name,age,gender):\n",
    "        self.name=name\n",
    "        self.age=age\n",
    "        self.gender=gender\n",
    "    @classmethod\n",
    "    def enter_details(cls,name,age,gender):\n",
    "        return cls(name,age,gender)\n",
    "    def show_details(self):\n",
    "        return(self.name,self.age,self.gender)"
   ]
  },
  {
   "cell_type": "code",
   "execution_count": 15,
   "id": "cc5cb22d-6949-4f94-b5c3-e569f56cad2f",
   "metadata": {},
   "outputs": [],
   "source": [
    "a=ap.enter_details('asutosh pardhan',18,'male')"
   ]
  },
  {
   "cell_type": "code",
   "execution_count": 16,
   "id": "eeca41d3-c4f2-42ab-b4f1-3a09d5b40f75",
   "metadata": {},
   "outputs": [
    {
     "data": {
      "text/plain": [
       "('asutosh pardhan', 18, 'male')"
      ]
     },
     "execution_count": 16,
     "metadata": {},
     "output_type": "execute_result"
    }
   ],
   "source": [
    "a.show_details()"
   ]
  },
  {
   "cell_type": "code",
   "execution_count": 17,
   "id": "15e86f0d-62c0-400c-b4d9-e3f0f818159f",
   "metadata": {},
   "outputs": [
    {
     "data": {
      "text/plain": [
       "'asutosh pardhan'"
      ]
     },
     "execution_count": 17,
     "metadata": {},
     "output_type": "execute_result"
    }
   ],
   "source": [
    "a.name"
   ]
  },
  {
   "cell_type": "code",
   "execution_count": 2,
   "id": "8cf6525f-deb3-406d-9b62-9c0a0df101e6",
   "metadata": {},
   "outputs": [],
   "source": [
    "class ap1:\n",
    "    def __init__(self,name,age,gender):\n",
    "        self.name=name\n",
    "        self.age=age\n",
    "        self.gender=gender\n",
    "    mobile_no=7008820552\n",
    "    @classmethod\n",
    "    def change_number(cls,number):\n",
    "        ap1.mobile_no=number\n",
    "    @classmethod\n",
    "    def enter_details(cls,name,age,gender):\n",
    "        return cls(name,age,gender)\n",
    "    def show_details(self):\n",
    "        return(self.name,self.age,self.gender,ap1.mobile_no)"
   ]
  },
  {
   "cell_type": "code",
   "execution_count": 3,
   "id": "3e39705d-bf0f-4320-8b98-4604da2bd6c8",
   "metadata": {},
   "outputs": [],
   "source": [
    "a=ap1.enter_details('asutosh pradhan',18,'male')"
   ]
  },
  {
   "cell_type": "code",
   "execution_count": 4,
   "id": "640e9a9d-cdf0-4192-aee8-bbe7263b555d",
   "metadata": {},
   "outputs": [],
   "source": [
    "a.change_number(9439308041)"
   ]
  },
  {
   "cell_type": "code",
   "execution_count": 5,
   "id": "f8113ab8-3fb0-49ee-b82d-3da8527e0867",
   "metadata": {},
   "outputs": [
    {
     "data": {
      "text/plain": [
       "('asutosh pradhan', 18, 'male', 9439308041)"
      ]
     },
     "execution_count": 5,
     "metadata": {},
     "output_type": "execute_result"
    }
   ],
   "source": [
    "a.show_details()"
   ]
  },
  {
   "cell_type": "code",
   "execution_count": 7,
   "id": "f8776f88-e243-47e6-83c6-a0d369c7e05b",
   "metadata": {},
   "outputs": [
    {
     "data": {
      "text/plain": [
       "9439308041"
      ]
     },
     "execution_count": 7,
     "metadata": {},
     "output_type": "execute_result"
    }
   ],
   "source": [
    "ap1.mobile_no"
   ]
  },
  {
   "cell_type": "code",
   "execution_count": 8,
   "id": "31d4d140-eb56-4cda-92d1-ecca78c31e36",
   "metadata": {},
   "outputs": [],
   "source": [
    "#addition of external method to the given class\n",
    "class ap2:\n",
    "    def __init__(self,name,age,gender):\n",
    "        self.name=name\n",
    "        self.age=age\n",
    "        self.gender=gender\n",
    "    mobile_no=7008820552\n",
    "    @classmethod\n",
    "    def change_number(cls,number):\n",
    "        ap1.mobile_no=number\n",
    "    @classmethod\n",
    "    def enter_details(cls,name,age,gender):\n",
    "        return cls(name,age,gender)\n",
    "    def show_details(self):\n",
    "        return(self.name,self.age,self.gender,ap1.mobile_no)"
   ]
  },
  {
   "cell_type": "code",
   "execution_count": 9,
   "id": "49a75bb6-9a77-48d2-9e19-36a045ba2426",
   "metadata": {},
   "outputs": [],
   "source": [
    "def join(cls):\n",
    "    print('This function is joined')"
   ]
  },
  {
   "cell_type": "code",
   "execution_count": 10,
   "id": "b7e6a38e-7b7c-4e9b-8e17-e5da2eb91568",
   "metadata": {},
   "outputs": [],
   "source": [
    "ap2.join=classmethod(join) "
   ]
  },
  {
   "cell_type": "code",
   "execution_count": 11,
   "id": "12d9c249-e8e1-4e24-bc54-80fdb113d6ab",
   "metadata": {},
   "outputs": [
    {
     "name": "stdout",
     "output_type": "stream",
     "text": [
      "This function is joined\n"
     ]
    }
   ],
   "source": [
    "ap2.join()"
   ]
  },
  {
   "cell_type": "code",
   "execution_count": 58,
   "id": "45cb3c54-d24e-4b25-a45e-5e355ee85033",
   "metadata": {},
   "outputs": [],
   "source": [
    "#static method\n",
    "class ap3:\n",
    "   \n",
    "    @classmethod\n",
    "    def enter_details(cls,name,age,gender):\n",
    "        return (name,age,gender)"
   ]
  },
  {
   "cell_type": "code",
   "execution_count": 60,
   "id": "eecf67f8-4119-4c91-95b7-fa90043d838e",
   "metadata": {},
   "outputs": [
    {
     "data": {
      "text/plain": [
       "('asutosh pardhan', 18, 'male')"
      ]
     },
     "execution_count": 60,
     "metadata": {},
     "output_type": "execute_result"
    }
   ],
   "source": [
    "ap3.enter_details('asutosh pardhan',18,'male')"
   ]
  },
  {
   "cell_type": "code",
   "execution_count": 8,
   "id": "eff05aa6-4513-4387-a63f-4afc8af8c704",
   "metadata": {},
   "outputs": [],
   "source": [
    "#property decorator \n",
    "#(i)Getter\n",
    "class pwskills:\n",
    "    def __init__(self,course_name,course_price):\n",
    "        self.course_name=course_name\n",
    "        self.__course_price=course_price\n",
    "    \n",
    "    @property\n",
    "    def course_price_acess(self):\n",
    "        return self.__course_price"
   ]
  },
  {
   "cell_type": "code",
   "execution_count": 9,
   "id": "7a3caea0-954c-495c-b7b9-00ae57766bb3",
   "metadata": {},
   "outputs": [],
   "source": [
    "a=pwskills('data science',3500)"
   ]
  },
  {
   "cell_type": "code",
   "execution_count": 12,
   "id": "944eb8ed-bc36-43f7-b322-64528a42a932",
   "metadata": {},
   "outputs": [
    {
     "data": {
      "text/plain": [
       "3500"
      ]
     },
     "execution_count": 12,
     "metadata": {},
     "output_type": "execute_result"
    }
   ],
   "source": [
    "a.course_price_acess"
   ]
  },
  {
   "cell_type": "code",
   "execution_count": 14,
   "id": "e25339a9-a2e4-4b58-973d-c2720f16cec3",
   "metadata": {},
   "outputs": [],
   "source": [
    "#(ii)Setter\n",
    "class pwskills1:\n",
    "    def __init__(self,course_name,course_price):\n",
    "        self.course_name=course_name\n",
    "        self.__course_price=course_price\n",
    "    \n",
    "    @property\n",
    "    def course_price_acess(self):\n",
    "        return self.__course_price\n",
    "    @course_price_acess.setter\n",
    "    def enter_course_price(self,price):\n",
    "        if price>=self.__course_price:\n",
    "            self.__course_price=price\n",
    "        else:\n",
    "            print('cat be changed')"
   ]
  },
  {
   "cell_type": "code",
   "execution_count": 15,
   "id": "80466518-7a09-4d4b-b101-3fe62bfa696a",
   "metadata": {},
   "outputs": [],
   "source": [
    "a=pwskills1('data science',3500)"
   ]
  },
  {
   "cell_type": "code",
   "execution_count": 19,
   "id": "c18b7e74-a7e4-43e0-b962-76c3f202157d",
   "metadata": {},
   "outputs": [],
   "source": [
    "\n",
    "a.enter_course_price=4500"
   ]
  },
  {
   "cell_type": "code",
   "execution_count": 20,
   "id": "42f6fdb3-e994-48eb-8787-a6e9aeaf256a",
   "metadata": {},
   "outputs": [
    {
     "data": {
      "text/plain": [
       "4500"
      ]
     },
     "execution_count": 20,
     "metadata": {},
     "output_type": "execute_result"
    }
   ],
   "source": [
    "a.course_price_acess"
   ]
  },
  {
   "cell_type": "code",
   "execution_count": 21,
   "id": "efa18e66-fe92-4b46-ac45-4c07d46e8d56",
   "metadata": {},
   "outputs": [
    {
     "data": {
      "text/plain": [
       "'data science'"
      ]
     },
     "execution_count": 21,
     "metadata": {},
     "output_type": "execute_result"
    }
   ],
   "source": [
    "a.course_name"
   ]
  },
  {
   "cell_type": "code",
   "execution_count": 23,
   "id": "0791d69e-5a58-4794-b7a2-24b2be955fc7",
   "metadata": {},
   "outputs": [],
   "source": [
    "#(iii)Deleteer\n",
    "class pwskills2:\n",
    "    def __init__(self,course_name,course_price):\n",
    "        self.course_name=course_name\n",
    "        self.__course_price=course_price\n",
    "    \n",
    "    @property\n",
    "    def course_price_acess(self):\n",
    "        return self.__course_price\n",
    "    @course_price_acess.setter\n",
    "    def enter_course_price(self,price):\n",
    "        if price>=self.__course_price:\n",
    "            self.__course_price=price\n",
    "        else:\n",
    "            print('cat be changed')\n",
    "    @course_price_acess.deleter\n",
    "    def delete_course_price(self):\n",
    "        del self.__course_price"
   ]
  },
  {
   "cell_type": "code",
   "execution_count": 24,
   "id": "055c6e47-3560-46db-872c-a71e5327aa3e",
   "metadata": {},
   "outputs": [],
   "source": [
    "a=pwskills2('data science',3500)"
   ]
  },
  {
   "cell_type": "code",
   "execution_count": 25,
   "id": "dcd4f7f6-174f-4624-b081-453c3478a27c",
   "metadata": {},
   "outputs": [],
   "source": [
    "del a.delete_course_price"
   ]
  },
  {
   "cell_type": "code",
   "execution_count": 26,
   "id": "8faedaec-1d0c-429a-bc71-adb2893ce4ef",
   "metadata": {},
   "outputs": [
    {
     "ename": "AttributeError",
     "evalue": "'pwskills2' object has no attribute '_pwskills2__course_price'",
     "output_type": "error",
     "traceback": [
      "\u001b[0;31m---------------------------------------------------------------------------\u001b[0m",
      "\u001b[0;31mAttributeError\u001b[0m                            Traceback (most recent call last)",
      "Cell \u001b[0;32mIn[26], line 1\u001b[0m\n\u001b[0;32m----> 1\u001b[0m \u001b[43ma\u001b[49m\u001b[38;5;241;43m.\u001b[39;49m\u001b[43mcourse_price_acess\u001b[49m\n",
      "Cell \u001b[0;32mIn[23], line 9\u001b[0m, in \u001b[0;36mpwskills2.course_price_acess\u001b[0;34m(self)\u001b[0m\n\u001b[1;32m      7\u001b[0m \u001b[38;5;129m@property\u001b[39m\n\u001b[1;32m      8\u001b[0m \u001b[38;5;28;01mdef\u001b[39;00m \u001b[38;5;21mcourse_price_acess\u001b[39m(\u001b[38;5;28mself\u001b[39m):\n\u001b[0;32m----> 9\u001b[0m     \u001b[38;5;28;01mreturn\u001b[39;00m \u001b[38;5;28;43mself\u001b[39;49m\u001b[38;5;241;43m.\u001b[39;49m\u001b[43m__course_price\u001b[49m\n",
      "\u001b[0;31mAttributeError\u001b[0m: 'pwskills2' object has no attribute '_pwskills2__course_price'"
     ]
    }
   ],
   "source": [
    "a.course_price_acess"
   ]
  },
  {
   "cell_type": "code",
   "execution_count": null,
   "id": "c580c953-fe03-4f9c-a7f0-4b2f5e63c295",
   "metadata": {},
   "outputs": [],
   "source": []
  }
 ],
 "metadata": {
  "kernelspec": {
   "display_name": "Python 3 (ipykernel)",
   "language": "python",
   "name": "python3"
  },
  "language_info": {
   "codemirror_mode": {
    "name": "ipython",
    "version": 3
   },
   "file_extension": ".py",
   "mimetype": "text/x-python",
   "name": "python",
   "nbconvert_exporter": "python",
   "pygments_lexer": "ipython3",
   "version": "3.10.8"
  }
 },
 "nbformat": 4,
 "nbformat_minor": 5
}
