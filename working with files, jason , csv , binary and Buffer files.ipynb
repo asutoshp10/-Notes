{
 "cells": [
  {
   "cell_type": "code",
   "execution_count": 2,
   "id": "747f0662-9da0-444e-aa03-679377f0cb2d",
   "metadata": {},
   "outputs": [],
   "source": [
    "f=open(\"text.txt\",'w')"
   ]
  },
  {
   "cell_type": "code",
   "execution_count": 3,
   "id": "63b26168-63ec-4a9c-991e-b7622600cd5a",
   "metadata": {},
   "outputs": [
    {
     "data": {
      "text/plain": [
       "'/home/jovyan/work'"
      ]
     },
     "execution_count": 3,
     "metadata": {},
     "output_type": "execute_result"
    }
   ],
   "source": [
    "pwd"
   ]
  },
  {
   "cell_type": "code",
   "execution_count": 4,
   "id": "dfad582c-5349-4b4f-b7c2-502fcc4e243e",
   "metadata": {},
   "outputs": [
    {
     "name": "stdout",
     "output_type": "stream",
     "text": [
      " Assignment.ipynb\n",
      "'Assignment week 1.ipynb'\n",
      "'Assignment week 2.ipynb'\n",
      "'Assignment week 3(1).ipynb'\n",
      "'Assignment week 3(2).ipynb'\n",
      "'Assignment week 4(1).ipynb'\n",
      "'Assignment week 4(2).ipynb'\n",
      " Asucoder.ipynb\n",
      "'class method,overloading,static method,property decorator.ipynb'\n",
      " condition.ipynb\n",
      " Function,generator,amp,filter,reduce.ipynb\n",
      " List.ipynb\n",
      "'Mutable and Unmutable class.ipynb'\n",
      " oops,polymorphism,encaptulation,inheritance,abstraction.ipynb\n",
      "'oops task assignment.ipynb'\n",
      " Opreator.ipynb\n",
      " README.md\n",
      " sample-code.ipynb\n",
      "'String assignment.ipynb'\n",
      "'String indexing and slicing .ipynb'\n",
      " text.txt\n",
      "'working with files.ipynb'\n"
     ]
    }
   ],
   "source": [
    "ls"
   ]
  },
  {
   "cell_type": "code",
   "execution_count": 5,
   "id": "52e5e5f5-d59b-4083-a92e-86caf5e6759d",
   "metadata": {},
   "outputs": [
    {
     "data": {
      "text/plain": [
       "90"
      ]
     },
     "execution_count": 5,
     "metadata": {},
     "output_type": "execute_result"
    }
   ],
   "source": [
    "f.write('Hello, I am Asutosh Pradhan from Rourkela and studying Data Science masters from PW Skills')"
   ]
  },
  {
   "cell_type": "code",
   "execution_count": 6,
   "id": "edbf58f2-0a31-4379-ac99-6018ba8cf4e8",
   "metadata": {},
   "outputs": [],
   "source": [
    "f.close()"
   ]
  },
  {
   "cell_type": "code",
   "execution_count": 7,
   "id": "e4ad7f37-3cb3-4a2f-a4f0-c8ea70b12532",
   "metadata": {},
   "outputs": [],
   "source": [
    "f=open(\"text.txt\",'a')"
   ]
  },
  {
   "cell_type": "code",
   "execution_count": 10,
   "id": "dc52011d-bb45-4322-926a-8a09f48964d6",
   "metadata": {},
   "outputs": [
    {
     "data": {
      "text/plain": [
       "165"
      ]
     },
     "execution_count": 10,
     "metadata": {},
     "output_type": "execute_result"
    }
   ],
   "source": [
    "f.write('1. Commercial space tourism. Taking wealthy individuals to space for recreational trips could generate billions in revenue from ticket and merchandise sales. · 2 ...')"
   ]
  },
  {
   "cell_type": "code",
   "execution_count": 11,
   "id": "3f2765e0-f718-43a5-8ecc-8b2ddb9738a5",
   "metadata": {},
   "outputs": [],
   "source": [
    "f.close()"
   ]
  },
  {
   "cell_type": "code",
   "execution_count": 24,
   "id": "d5aefab4-ca20-43cd-86d9-ca9be777f584",
   "metadata": {},
   "outputs": [],
   "source": [
    "f=open('text.txt','a')"
   ]
  },
  {
   "cell_type": "code",
   "execution_count": 25,
   "id": "6b94a7a5-253f-49cd-bf8a-27d5a28f4e9f",
   "metadata": {},
   "outputs": [
    {
     "data": {
      "text/plain": [
       "225"
      ]
     },
     "execution_count": 25,
     "metadata": {},
     "output_type": "execute_result"
    }
   ],
   "source": [
    "f.write(f'Check out our list of billion-dollar business ideas below to kickstart your thinking \\n 1. Film Production Company.\\n 2. Plastic Recycling \\n 3. Health Care. \\n 4. Stock Trading \\n 5. EV Charging Stations \\n 5. EV Charging Stations')"
   ]
  },
  {
   "cell_type": "code",
   "execution_count": 26,
   "id": "6cdde895-eef4-4685-8cf2-8a88f92f25e7",
   "metadata": {},
   "outputs": [],
   "source": [
    "f.close()"
   ]
  },
  {
   "cell_type": "code",
   "execution_count": 27,
   "id": "d684d28d-a8a0-4a95-af5a-1fcb2ac041f8",
   "metadata": {},
   "outputs": [],
   "source": [
    "f=open('text.txt','a')"
   ]
  },
  {
   "cell_type": "code",
   "execution_count": 28,
   "id": "58fc9811-e97d-42a1-bafa-dcf9b51d2293",
   "metadata": {},
   "outputs": [
    {
     "data": {
      "text/plain": [
       "9"
      ]
     },
     "execution_count": 28,
     "metadata": {},
     "output_type": "execute_result"
    }
   ],
   "source": [
    "f.write(\"that's it\")"
   ]
  },
  {
   "cell_type": "code",
   "execution_count": 29,
   "id": "338f3925-9b62-41f7-b6b3-8f7fb68ccfd7",
   "metadata": {},
   "outputs": [],
   "source": [
    "f.close()"
   ]
  },
  {
   "cell_type": "code",
   "execution_count": 30,
   "id": "e99230f1-5311-4a8c-aa6d-d515bda843f6",
   "metadata": {},
   "outputs": [],
   "source": [
    "f=open('text.txt','r')"
   ]
  },
  {
   "cell_type": "code",
   "execution_count": 31,
   "id": "87a9ef3b-b8fe-411b-86ae-1dc871c237a5",
   "metadata": {},
   "outputs": [
    {
     "data": {
      "text/plain": [
       "\"Hello, I am Asutosh Pradhan from Rourkela and studying Data Science masters from PW Skills1. Commercial space tourism. Taking wealthy individuals to space for recreational trips could generate billions in revenue from ticket and merchandise sales. · 2 ...Check out our list of billion-dollar business ideas below to kickstart your thinking \\n 1. Film Production Company.\\n 2. Plastic Recycling \\n 3. Health Care. \\n 4. Stock Trading \\n 5. EV Charging Stations \\n 5. EV Charging Stationsthat's itCheck out our list of billion-dollar business ideas below to kickstart your thinking \\n 1. Film Production Company.\\n 2. Plastic Recycling \\n 3. Health Care. \\n 4. Stock Trading \\n 5. EV Charging Stations \\n 5. EV Charging Stationsthat's it\""
      ]
     },
     "execution_count": 31,
     "metadata": {},
     "output_type": "execute_result"
    }
   ],
   "source": [
    "f.read()"
   ]
  },
  {
   "cell_type": "code",
   "execution_count": 33,
   "id": "ec78d781-8071-489b-a970-114a67e1717a",
   "metadata": {},
   "outputs": [],
   "source": [
    "f.close()"
   ]
  },
  {
   "cell_type": "code",
   "execution_count": 34,
   "id": "f61915c8-37e6-4b8c-bdd7-9af69ebfe585",
   "metadata": {},
   "outputs": [],
   "source": [
    "ap=open('text.txt','r')"
   ]
  },
  {
   "cell_type": "code",
   "execution_count": 35,
   "id": "3a3cc07c-6276-425d-8386-a8d08e508511",
   "metadata": {},
   "outputs": [
    {
     "data": {
      "text/plain": [
       "\"Hello, I am Asutosh Pradhan from Rourkela and studying Data Science masters from PW Skills1. Commercial space tourism. Taking wealthy individuals to space for recreational trips could generate billions in revenue from ticket and merchandise sales. · 2 ...Check out our list of billion-dollar business ideas below to kickstart your thinking \\n 1. Film Production Company.\\n 2. Plastic Recycling \\n 3. Health Care. \\n 4. Stock Trading \\n 5. EV Charging Stations \\n 5. EV Charging Stationsthat's itCheck out our list of billion-dollar business ideas below to kickstart your thinking \\n 1. Film Production Company.\\n 2. Plastic Recycling \\n 3. Health Care. \\n 4. Stock Trading \\n 5. EV Charging Stations \\n 5. EV Charging Stationsthat's it\""
      ]
     },
     "execution_count": 35,
     "metadata": {},
     "output_type": "execute_result"
    }
   ],
   "source": [
    "ap.read()"
   ]
  },
  {
   "cell_type": "code",
   "execution_count": 36,
   "id": "ff863bd8-2489-42f8-acd6-44117698aa17",
   "metadata": {},
   "outputs": [
    {
     "data": {
      "text/plain": [
       "''"
      ]
     },
     "execution_count": 36,
     "metadata": {},
     "output_type": "execute_result"
    }
   ],
   "source": [
    "ap.readline()"
   ]
  },
  {
   "cell_type": "code",
   "execution_count": 37,
   "id": "bd09d953-c001-46a4-827e-95a93995a27d",
   "metadata": {},
   "outputs": [
    {
     "data": {
      "text/plain": [
       "True"
      ]
     },
     "execution_count": 37,
     "metadata": {},
     "output_type": "execute_result"
    }
   ],
   "source": [
    "ap.readable()"
   ]
  },
  {
   "cell_type": "code",
   "execution_count": 38,
   "id": "04615e4f-6ab0-40e0-bc09-c6c01dc87865",
   "metadata": {},
   "outputs": [
    {
     "data": {
      "text/plain": [
       "10"
      ]
     },
     "execution_count": 38,
     "metadata": {},
     "output_type": "execute_result"
    }
   ],
   "source": [
    "ap.seek(10)"
   ]
  },
  {
   "cell_type": "code",
   "execution_count": 40,
   "id": "3c966ed0-7d9e-4153-8b8e-d17896ca1f06",
   "metadata": {},
   "outputs": [
    {
     "data": {
      "text/plain": [
       "'m Asutosh Pradhan from Rourkela and studying Data Science masters from PW Skills1. Commercial space tourism. Taking wealthy individuals to space for recreational trips could generate billions in revenue from ticket and merchandise sales. · 2 ...Check out our list of billion-dollar business ideas below to kickstart your thinking \\n'"
      ]
     },
     "execution_count": 40,
     "metadata": {},
     "output_type": "execute_result"
    }
   ],
   "source": [
    "ap.readline()"
   ]
  },
  {
   "cell_type": "code",
   "execution_count": 41,
   "id": "06fce3bb-18eb-4daf-bc39-cf3d2caa7e7c",
   "metadata": {},
   "outputs": [
    {
     "data": {
      "text/plain": [
       "\" 1. Film Production Company.\\n 2. Plastic Recycling \\n 3. Health Care. \\n 4. Stock Trading \\n 5. EV Charging Stations \\n 5. EV Charging Stationsthat's itCheck out our list of billion-dollar business ideas below to kickstart your thinking \\n 1. Film Production Company.\\n 2. Plastic Recycling \\n 3. Health Care. \\n 4. Stock Trading \\n 5. EV Charging Stations \\n 5. EV Charging Stationsthat's it\""
      ]
     },
     "execution_count": 41,
     "metadata": {},
     "output_type": "execute_result"
    }
   ],
   "source": [
    "ap.read()\n"
   ]
  },
  {
   "cell_type": "code",
   "execution_count": 42,
   "id": "19900e14-9120-4156-94a7-e143f183354e",
   "metadata": {},
   "outputs": [
    {
     "data": {
      "text/plain": [
       "[]"
      ]
     },
     "execution_count": 42,
     "metadata": {},
     "output_type": "execute_result"
    }
   ],
   "source": [
    "ap.readlines()"
   ]
  },
  {
   "cell_type": "code",
   "execution_count": 43,
   "id": "657a8b21-79b4-44e3-bd57-6b6ea3539c18",
   "metadata": {},
   "outputs": [
    {
     "data": {
      "text/plain": [
       "100"
      ]
     },
     "execution_count": 43,
     "metadata": {},
     "output_type": "execute_result"
    }
   ],
   "source": [
    "ap.seek(100)"
   ]
  },
  {
   "cell_type": "code",
   "execution_count": 44,
   "id": "ee523015-d730-4c76-add1-ca212c5fa43d",
   "metadata": {},
   "outputs": [
    {
     "data": {
      "text/plain": [
       "['ial space tourism. Taking wealthy individuals to space for recreational trips could generate billions in revenue from ticket and merchandise sales. · 2 ...Check out our list of billion-dollar business ideas below to kickstart your thinking \\n',\n",
       " ' 1. Film Production Company.\\n',\n",
       " ' 2. Plastic Recycling \\n',\n",
       " ' 3. Health Care. \\n',\n",
       " ' 4. Stock Trading \\n',\n",
       " ' 5. EV Charging Stations \\n',\n",
       " \" 5. EV Charging Stationsthat's itCheck out our list of billion-dollar business ideas below to kickstart your thinking \\n\",\n",
       " ' 1. Film Production Company.\\n',\n",
       " ' 2. Plastic Recycling \\n',\n",
       " ' 3. Health Care. \\n',\n",
       " ' 4. Stock Trading \\n',\n",
       " ' 5. EV Charging Stations \\n',\n",
       " \" 5. EV Charging Stationsthat's it\"]"
      ]
     },
     "execution_count": 44,
     "metadata": {},
     "output_type": "execute_result"
    }
   ],
   "source": [
    "ap.readlines()"
   ]
  },
  {
   "cell_type": "code",
   "execution_count": 45,
   "id": "fe5730bc-9a08-419a-a0d1-5a7a01c06950",
   "metadata": {},
   "outputs": [
    {
     "data": {
      "text/plain": [
       "0"
      ]
     },
     "execution_count": 45,
     "metadata": {},
     "output_type": "execute_result"
    }
   ],
   "source": [
    "ap.seek(0)"
   ]
  },
  {
   "cell_type": "code",
   "execution_count": 47,
   "id": "6ff86f71-2d54-4bcd-aaa3-80826ebded5f",
   "metadata": {},
   "outputs": [
    {
     "data": {
      "text/plain": [
       "\"Hello, I am Asutosh Pradhan from Rourkela and studying Data Science masters from PW Skills1. Commercial space tourism. Taking wealthy individuals to space for recreational trips could generate billions in revenue from ticket and merchandise sales. · 2 ...Check out our list of billion-dollar business ideas below to kickstart your thinking \\n 1. Film Production Company.\\n 2. Plastic Recycling \\n 3. Health Care. \\n 4. Stock Trading \\n 5. EV Charging Stations \\n 5. EV Charging Stationsthat's itCheck out our list of billion-dollar business ideas below to kickstart your thinking \\n 1. Film Production Company.\\n 2. Plastic Recycling \\n 3. Health Care. \\n 4. Stock Trading \\n 5. EV Charging Stations \\n 5. EV Charging Stationsthat's it\""
      ]
     },
     "execution_count": 47,
     "metadata": {},
     "output_type": "execute_result"
    }
   ],
   "source": [
    "ap.read()"
   ]
  },
  {
   "cell_type": "code",
   "execution_count": 48,
   "id": "1553bb86-32a9-497d-93e9-3d6a94335c8e",
   "metadata": {},
   "outputs": [
    {
     "data": {
      "text/plain": [
       "[]"
      ]
     },
     "execution_count": 48,
     "metadata": {},
     "output_type": "execute_result"
    }
   ],
   "source": [
    "ap.readlines()\n"
   ]
  },
  {
   "cell_type": "code",
   "execution_count": 49,
   "id": "e9fbd8b3-7d55-43d5-866e-a4b12637620c",
   "metadata": {},
   "outputs": [
    {
     "data": {
      "text/plain": [
       "0"
      ]
     },
     "execution_count": 49,
     "metadata": {},
     "output_type": "execute_result"
    }
   ],
   "source": [
    "ap.seek(0)"
   ]
  },
  {
   "cell_type": "code",
   "execution_count": 50,
   "id": "945f54a0-1ab6-439a-848c-963b7634e915",
   "metadata": {},
   "outputs": [
    {
     "data": {
      "text/plain": [
       "['Hello, I am Asutosh Pradhan from Rourkela and studying Data Science masters from PW Skills1. Commercial space tourism. Taking wealthy individuals to space for recreational trips could generate billions in revenue from ticket and merchandise sales. · 2 ...Check out our list of billion-dollar business ideas below to kickstart your thinking \\n',\n",
       " ' 1. Film Production Company.\\n',\n",
       " ' 2. Plastic Recycling \\n',\n",
       " ' 3. Health Care. \\n',\n",
       " ' 4. Stock Trading \\n',\n",
       " ' 5. EV Charging Stations \\n',\n",
       " \" 5. EV Charging Stationsthat's itCheck out our list of billion-dollar business ideas below to kickstart your thinking \\n\",\n",
       " ' 1. Film Production Company.\\n',\n",
       " ' 2. Plastic Recycling \\n',\n",
       " ' 3. Health Care. \\n',\n",
       " ' 4. Stock Trading \\n',\n",
       " ' 5. EV Charging Stations \\n',\n",
       " \" 5. EV Charging Stationsthat's it\"]"
      ]
     },
     "execution_count": 50,
     "metadata": {},
     "output_type": "execute_result"
    }
   ],
   "source": [
    "ap.readlines()"
   ]
  },
  {
   "cell_type": "code",
   "execution_count": 66,
   "id": "757917d4-9191-4a45-83f3-7432ee34dcbc",
   "metadata": {},
   "outputs": [],
   "source": [
    "ideas=open('ideas.txt','a')"
   ]
  },
  {
   "cell_type": "code",
   "execution_count": 67,
   "id": "b73e279c-7097-47c6-8d6f-bfee7f479493",
   "metadata": {},
   "outputs": [
    {
     "data": {
      "text/plain": [
       "550"
      ]
     },
     "execution_count": 67,
     "metadata": {},
     "output_type": "execute_result"
    }
   ],
   "source": [
    "ideas.write('Numerous millionaires worldwide are already reaping the benefits of modern technology in fields such as space and tourism, among others. Elon Musk and Jeff Bezos co-founded .a firm named Blue Origin. It is a rival of SpaceX. Billionaires who invest now in these sectors are certain to profit handsomely in the not-too-distant future. These firms should cause individuals to think and believe differently as a result of the way they operate. The technology business is home to 365 billionaires, accounting for more than 13% of the world’s total wealth')"
   ]
  },
  {
   "cell_type": "code",
   "execution_count": 68,
   "id": "138a5ce8-5ab0-4d31-babd-adde2be44b01",
   "metadata": {},
   "outputs": [],
   "source": [
    "ideas.close()"
   ]
  },
  {
   "cell_type": "code",
   "execution_count": 69,
   "id": "a8941e51-4a6c-48d6-a0a2-301cdcd9b7c2",
   "metadata": {},
   "outputs": [],
   "source": [
    "ideas=open('ideas.txt','r')"
   ]
  },
  {
   "cell_type": "code",
   "execution_count": 70,
   "id": "45f0906d-1a49-4afc-9854-86acfacf9c9a",
   "metadata": {},
   "outputs": [
    {
     "data": {
      "text/plain": [
       "0"
      ]
     },
     "execution_count": 70,
     "metadata": {},
     "output_type": "execute_result"
    }
   ],
   "source": [
    "ideas.seek(0)"
   ]
  },
  {
   "cell_type": "code",
   "execution_count": 71,
   "id": "1cfe40cd-f4ac-4c67-afc3-a4b4f2b3ff1d",
   "metadata": {},
   "outputs": [
    {
     "name": "stdout",
     "output_type": "stream",
     "text": [
      "Numerous millionaires worldwide are already reaping the benefits of modern technology in fields such as space and tourism, among others. Elon Musk and Jeff Bezos co-founded a firm named Blue Origin. It is a rival of SpaceX. Billionaires who invest now in these sectors are certain to profit handsomely in the not-too-distant future. These firms should cause individuals to think and believe differently as a result of the way they operate. The technology business is home to 365 billionaires, accounting for more than 13% of the world’s total wealthNumerous millionaires worldwide are already reaping the benefits of modern technology in fields such as space and tourism, among others. Elon Musk and Jeff Bezos co-founded .a firm named Blue Origin. It is a rival of SpaceX. Billionaires who invest now in these sectors are certain to profit handsomely in the not-too-distant future. These firms should cause individuals to think and believe differently as a result of the way they operate. The technology business is home to 365 billionaires, accounting for more than 13% of the world’s total wealth\n"
     ]
    }
   ],
   "source": [
    "for i in ideas:\n",
    "    print(i)"
   ]
  },
  {
   "cell_type": "code",
   "execution_count": 72,
   "id": "df6de05b-f29d-42c6-afdf-13aa45462695",
   "metadata": {},
   "outputs": [],
   "source": [
    "# Os function\n",
    "import os"
   ]
  },
  {
   "cell_type": "code",
   "execution_count": 74,
   "id": "772541eb-d5dd-4f0e-a5ba-469cfca0ab45",
   "metadata": {},
   "outputs": [
    {
     "data": {
      "text/plain": [
       "1103"
      ]
     },
     "execution_count": 74,
     "metadata": {},
     "output_type": "execute_result"
    }
   ],
   "source": [
    "os.path.getsize('ideas.txt')"
   ]
  },
  {
   "cell_type": "code",
   "execution_count": 76,
   "id": "cf4e16e2-74a8-49db-8e8e-285f663e4026",
   "metadata": {},
   "outputs": [],
   "source": [
    "os.remove('ideas.txt')"
   ]
  },
  {
   "cell_type": "code",
   "execution_count": 77,
   "id": "e940c611-2d91-4776-b313-96928036f1a4",
   "metadata": {},
   "outputs": [],
   "source": [
    "os.rename('text.txt','new_text.txt')"
   ]
  },
  {
   "cell_type": "code",
   "execution_count": 11,
   "id": "a601222e-92cc-46cb-a0ab-d0a1e83f6b7d",
   "metadata": {},
   "outputs": [],
   "source": [
    "#u can also write\n",
    "with open('text.txt','w') as f:\n",
    "    f.write('this is new type fo format of making a file')\n",
    "    f.close()"
   ]
  },
  {
   "cell_type": "code",
   "execution_count": null,
   "id": "a6073209-50f9-434c-b659-447fa20b33ea",
   "metadata": {},
   "outputs": [],
   "source": []
  },
  {
   "cell_type": "code",
   "execution_count": null,
   "id": "c8ad910e-cddf-4a2d-ae89-6df1c54df23f",
   "metadata": {},
   "outputs": [],
   "source": []
  },
  {
   "cell_type": "code",
   "execution_count": null,
   "id": "dc12c24d-d367-4edb-b038-f9cd7833b5b5",
   "metadata": {},
   "outputs": [],
   "source": []
  },
  {
   "cell_type": "code",
   "execution_count": null,
   "id": "a22d84eb-540d-42e3-890a-5ecd23b752a9",
   "metadata": {},
   "outputs": [],
   "source": []
  },
  {
   "cell_type": "code",
   "execution_count": 97,
   "id": "7b48266f-bee6-438a-9766-b3fc9d68058a",
   "metadata": {},
   "outputs": [],
   "source": [
    "# json function is used to create file with key and value pair or in dictionary form\n",
    "# no need of closing\n",
    "data = {'name':'asutosh pradhan',\n",
    "        'age': 18,\n",
    "        'mobil_no':7008820552,\n",
    "        'course_taken':['data science masters 2.O','video edditting','finance']\n",
    "       }"
   ]
  },
  {
   "cell_type": "code",
   "execution_count": 58,
   "id": "c389bb53-2182-43a7-94e6-7ced38e85766",
   "metadata": {},
   "outputs": [],
   "source": [
    "data1={'balance':20000,\n",
    "       \n",
    "        'ratting':4.9,\n",
    "        'hieght_in_inch':5.7}"
   ]
  },
  {
   "cell_type": "code",
   "execution_count": 59,
   "id": "8b8527d7-445d-4f13-9f43-ac5ba0f5c4e3",
   "metadata": {},
   "outputs": [],
   "source": [
    "import json"
   ]
  },
  {
   "cell_type": "code",
   "execution_count": 60,
   "id": "5b44d112-1128-4dea-851b-ec21e64b3347",
   "metadata": {},
   "outputs": [],
   "source": [
    "with open('ap.json','w') as f:\n",
    "    json.dump(data,f)"
   ]
  },
  {
   "cell_type": "code",
   "execution_count": 50,
   "id": "11e4243d-2a51-4eca-9f49-e1b7d57be6cd",
   "metadata": {},
   "outputs": [],
   "source": [
    "f= open('ap.json','a')"
   ]
  },
  {
   "cell_type": "code",
   "execution_count": 47,
   "id": "ef19bb79-67f5-4b78-9526-7a922c3a37b2",
   "metadata": {},
   "outputs": [],
   "source": [
    "json.dump(data1,f)"
   ]
  },
  {
   "cell_type": "code",
   "execution_count": 39,
   "id": "71e65236-6d1a-4467-bf44-08a1af9e0530",
   "metadata": {},
   "outputs": [],
   "source": [
    "import os\n",
    "os.remove('ap.json')"
   ]
  },
  {
   "cell_type": "code",
   "execution_count": 61,
   "id": "deb66a1e-214c-4caa-8571-b288d23e6015",
   "metadata": {},
   "outputs": [],
   "source": [
    "with open('ap.json','r') as f:\n",
    "    a=json.load(f)"
   ]
  },
  {
   "cell_type": "code",
   "execution_count": 62,
   "id": "598b7091-40e4-4b9a-9bcd-7ce74f10375c",
   "metadata": {},
   "outputs": [
    {
     "data": {
      "text/plain": [
       "{'name': 'asutosh pradhan',\n",
       " 'age': 18,\n",
       " 'mobil_no': 7008820552,\n",
       " 'course_taken': ['data science masters 2.O', 'video edditting', 'finance']}"
      ]
     },
     "execution_count": 62,
     "metadata": {},
     "output_type": "execute_result"
    }
   ],
   "source": [
    "a"
   ]
  },
  {
   "cell_type": "code",
   "execution_count": null,
   "id": "d262291b-2a8c-43cb-8d96-f4ae12eb0115",
   "metadata": {},
   "outputs": [],
   "source": []
  },
  {
   "cell_type": "code",
   "execution_count": null,
   "id": "11c3a291-8595-49fe-9d00-3a3be2e65a8d",
   "metadata": {},
   "outputs": [],
   "source": []
  },
  {
   "cell_type": "code",
   "execution_count": null,
   "id": "39d74bf5-4ba1-444d-be63-d11a4065da23",
   "metadata": {},
   "outputs": [],
   "source": []
  },
  {
   "cell_type": "code",
   "execution_count": null,
   "id": "5022fb8b-1f2f-4748-8f04-3893336d8715",
   "metadata": {},
   "outputs": [],
   "source": []
  },
  {
   "cell_type": "code",
   "execution_count": null,
   "id": "6d7bb92a-8b6a-4ba3-b269-0fcfebc0ac70",
   "metadata": {},
   "outputs": [],
   "source": []
  },
  {
   "cell_type": "code",
   "execution_count": 71,
   "id": "0ba1eee5-32c2-436d-9a71-7515219fd6ff",
   "metadata": {},
   "outputs": [],
   "source": [
    "# csv(comma separated file)\n",
    "# no need of closing\n",
    "import csv"
   ]
  },
  {
   "cell_type": "code",
   "execution_count": 75,
   "id": "0c6ed412-b19e-401b-aab8-c23f673ec5b7",
   "metadata": {},
   "outputs": [],
   "source": [
    "data = [['name','batch','percentile'],\n",
    "        ['Asutosh Pradhan','TEAK',98.137],\n",
    "        ['Shubranshu Shekar Shetty','MSAE',95.23],\n",
    "        ['Pratyush Pratik Das','TSAE',98.4],\n",
    "        ['Biswajeet SWain','TSAE',90.3],\n",
    "        ['Amrit Kumar Sahoo','TEAK',87.45],\n",
    "        ['Biswajit Mahanta','TSAE',99.01],\n",
    "        ['Piyush Bihari','TEAK','Unknown'],\n",
    "        ['Dibya Swarup Shani','TEBS',50.4],\n",
    "        ['Tanisha Rattan','TEAK',79.8]\n",
    "       ]"
   ]
  },
  {
   "cell_type": "code",
   "execution_count": 76,
   "id": "e0d68745-3798-42da-adaa-b59088bdacf8",
   "metadata": {},
   "outputs": [],
   "source": [
    "with open('Jee_mark.csv','w') as f:\n",
    "    paper=csv.writer(f)\n",
    "    for i in data:\n",
    "        paper.writerow(i)"
   ]
  },
  {
   "cell_type": "code",
   "execution_count": 83,
   "id": "ea435097-d195-4544-9066-ba2b17e81273",
   "metadata": {},
   "outputs": [
    {
     "name": "stdout",
     "output_type": "stream",
     "text": [
      "['name', 'batch', 'percentile']\n",
      "['Asutosh Pradhan', 'TEAK', '98.137']\n",
      "['Shubranshu Shekar Shetty', 'MSAE', '95.23']\n",
      "['Pratyush Pratik Das', 'TSAE', '98.4']\n",
      "['Biswajeet SWain', 'TSAE', '90.3']\n",
      "['Amrit Kumar Sahoo', 'TEAK', '87.45']\n",
      "['Biswajit Mahanta', 'TSAE', '99.01']\n",
      "['Piyush Bihari', 'TEAK', 'Unknown']\n",
      "['Dibya Swarup Shani', 'TEBS', '50.4']\n",
      "['Tanisha Rattan', 'TEAK', '79.8']\n"
     ]
    }
   ],
   "source": [
    "with open('Jee_mark.csv','r') as f:\n",
    "    paper_read=csv.reader(f)\n",
    "    for i in paper_read:\n",
    "        print (i)"
   ]
  },
  {
   "cell_type": "code",
   "execution_count": null,
   "id": "e38e0300-d5a8-47f1-aa47-83a173623035",
   "metadata": {},
   "outputs": [],
   "source": []
  },
  {
   "cell_type": "code",
   "execution_count": null,
   "id": "5e518caf-ebcc-4997-9ca9-fdc12ad5b1e3",
   "metadata": {},
   "outputs": [],
   "source": []
  },
  {
   "cell_type": "code",
   "execution_count": null,
   "id": "3c0d4e3d-bcdd-441d-9e3d-0aa047613e8d",
   "metadata": {},
   "outputs": [],
   "source": []
  },
  {
   "cell_type": "code",
   "execution_count": null,
   "id": "6824aa76-9110-4339-b8ef-c5452168033e",
   "metadata": {},
   "outputs": [],
   "source": []
  },
  {
   "cell_type": "code",
   "execution_count": null,
   "id": "31ceb434-61a0-4994-8503-9c0c6dc54242",
   "metadata": {},
   "outputs": [],
   "source": []
  },
  {
   "cell_type": "code",
   "execution_count": 88,
   "id": "af5d8735-a19d-4a14-84fd-cb112e86eb4c",
   "metadata": {},
   "outputs": [],
   "source": [
    "#binary data form\n",
    "#here 'wb', 'rb' etc are used\n",
    "#also here b is written before in \".write(b'')\"\n",
    "#no need of closing\n",
    "with open('text.bin','wb') as f:\n",
    "    f.write(b'\\x01\\x02\\x03\\x04\\x05\\x06\\x07\\x08\\x09\\x10\\x11\\x12\\x13\\x14\\;')"
   ]
  },
  {
   "cell_type": "code",
   "execution_count": 90,
   "id": "565b2491-28e1-47ef-866f-956e32798d47",
   "metadata": {},
   "outputs": [],
   "source": [
    "with open('text.bin','rb') as f:\n",
    "    a=f.read()"
   ]
  },
  {
   "cell_type": "code",
   "execution_count": 91,
   "id": "224cddfe-309a-4315-92db-3ab34c7f3191",
   "metadata": {},
   "outputs": [
    {
     "data": {
      "text/plain": [
       "b'\\x01\\x02\\x03\\x04\\x05\\x06\\x07\\x08\\t\\x10\\x11\\x12\\x13\\x14\\\\;'"
      ]
     },
     "execution_count": 91,
     "metadata": {},
     "output_type": "execute_result"
    }
   ],
   "source": [
    "a"
   ]
  },
  {
   "cell_type": "code",
   "execution_count": null,
   "id": "6a0321e7-40a3-4ea6-a673-7a8ff62aaf6c",
   "metadata": {},
   "outputs": [],
   "source": []
  },
  {
   "cell_type": "code",
   "execution_count": null,
   "id": "18ac9d7d-660a-4524-b76b-2458a70adbbf",
   "metadata": {},
   "outputs": [],
   "source": []
  },
  {
   "cell_type": "code",
   "execution_count": null,
   "id": "0015d30b-7c0b-4d08-9e33-d79a4e241cfd",
   "metadata": {},
   "outputs": [],
   "source": []
  },
  {
   "cell_type": "code",
   "execution_count": null,
   "id": "dcb96c20-0337-4584-a80e-0adfb8805b8e",
   "metadata": {},
   "outputs": [],
   "source": []
  },
  {
   "cell_type": "code",
   "execution_count": 92,
   "id": "a1f7e21e-bd2d-4d2f-8c3f-7580672e803b",
   "metadata": {},
   "outputs": [],
   "source": [
    "# Buffer reader means we can write as many timef '.write()' before closing file. also Buffer is used to divide the file into chunk.\n",
    "# Here 'wb' and 'rb' are used\n",
    "#Here instead of 'close' ,'flush' is used\n",
    "#also here b is written before in \".write(b'')\"\n",
    "# we need to import a function called io\n",
    "import io"
   ]
  },
  {
   "cell_type": "code",
   "execution_count": 99,
   "id": "a1ed5f82-809e-44fb-9ff2-bf0f4ecf5522",
   "metadata": {},
   "outputs": [],
   "source": [
    "with open('text.buff','wb') as f:\n",
    "    file=io.BufferedWriter(f)\n",
    "    file.write(b'This is my first line\\n')\n",
    "    file.write(b'This is my 2nd line\\n')\n",
    "    file.write(b'This is my 3rd line\\n')\n",
    "    file.write(b'This is my 4th line\\n')\n",
    "    file.write(b'This is my 5th line\\n')\n",
    "    file.flush()\n",
    "    "
   ]
  },
  {
   "cell_type": "code",
   "execution_count": null,
   "id": "ce69b0f4-955c-4969-b623-ff7a37c0d6af",
   "metadata": {},
   "outputs": [],
   "source": []
  }
 ],
 "metadata": {
  "kernelspec": {
   "display_name": "Python 3 (ipykernel)",
   "language": "python",
   "name": "python3"
  },
  "language_info": {
   "codemirror_mode": {
    "name": "ipython",
    "version": 3
   },
   "file_extension": ".py",
   "mimetype": "text/x-python",
   "name": "python",
   "nbconvert_exporter": "python",
   "pygments_lexer": "ipython3",
   "version": "3.10.8"
  }
 },
 "nbformat": 4,
 "nbformat_minor": 5
}
