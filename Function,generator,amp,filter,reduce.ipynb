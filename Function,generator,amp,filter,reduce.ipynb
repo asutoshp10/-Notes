{
 "cells": [
  {
   "cell_type": "code",
   "execution_count": 1,
   "id": "73152d1c-93ba-4fc9-b128-66bc52eb0334",
   "metadata": {},
   "outputs": [],
   "source": [
    "#how to make a function\n",
    "def ispallindrome(n):\n",
    "    if list(str(n))[::-1]==list(str(n)):\n",
    "        print('It is a pallindrome number')\n",
    "    else:\n",
    "        print('It is not a pallindrome number')"
   ]
  },
  {
   "cell_type": "code",
   "execution_count": 2,
   "id": "856d5e80-42ef-4ce2-b7c1-31ad1309b794",
   "metadata": {},
   "outputs": [
    {
     "name": "stdout",
     "output_type": "stream",
     "text": [
      "It is a pallindrome number\n"
     ]
    }
   ],
   "source": [
    "ispallindrome(121)"
   ]
  },
  {
   "cell_type": "code",
   "execution_count": 8,
   "id": "a21a5b63-c646-4f8c-9c19-449aec0a5286",
   "metadata": {},
   "outputs": [],
   "source": [
    "#to enter infinite data\n",
    "def avg(*args):\n",
    "    a=0\n",
    "    for i in args:\n",
    "        a=a+i\n",
    "    b=len(args)\n",
    "    avg=a/b\n",
    "    return avg"
   ]
  },
  {
   "cell_type": "code",
   "execution_count": 9,
   "id": "503c4fdf-0699-4165-a8c2-96a035058528",
   "metadata": {},
   "outputs": [
    {
     "data": {
      "text/plain": [
       "2.5"
      ]
     },
     "execution_count": 9,
     "metadata": {},
     "output_type": "execute_result"
    }
   ],
   "source": [
    "avg(1,2,3,4)"
   ]
  },
  {
   "cell_type": "code",
   "execution_count": 10,
   "id": "4e9ec156-c09d-4b61-bbfa-c582d43e8567",
   "metadata": {},
   "outputs": [],
   "source": [
    "#to enter infinitely in the form of dictionary\n",
    "def details(**kwargs):\n",
    "    return kwargs"
   ]
  },
  {
   "cell_type": "code",
   "execution_count": 13,
   "id": "cf396a1e-c787-48b4-9206-657c8ae584f7",
   "metadata": {},
   "outputs": [
    {
     "data": {
      "text/plain": [
       "{'name': 'asutosh pradhan', 'age': 18, 'sex': 'male', 'mobile_no': 7008820552}"
      ]
     },
     "execution_count": 13,
     "metadata": {},
     "output_type": "execute_result"
    }
   ],
   "source": [
    "details(name='asutosh pradhan',age=18,sex='male',mobile_no=7008820552)"
   ]
  },
  {
   "cell_type": "code",
   "execution_count": 22,
   "id": "745d12e4-fa2a-4903-bc47-f5edb5684329",
   "metadata": {},
   "outputs": [],
   "source": [
    "#generator or yield to decresase the pressure from computers memory\n",
    "def fibonacii(n):\n",
    "    a,b=0,1\n",
    "    for i in range(n):\n",
    "        yield a\n",
    "        a,b=b,a+b"
   ]
  },
  {
   "cell_type": "code",
   "execution_count": 24,
   "id": "a0865635-4336-4c01-9044-49cef20619fa",
   "metadata": {},
   "outputs": [
    {
     "data": {
      "text/plain": [
       "[0, 1, 1, 2, 3, 5, 8, 13, 21, 34]"
      ]
     },
     "execution_count": 24,
     "metadata": {},
     "output_type": "execute_result"
    }
   ],
   "source": [
    "list(fibonacii(10))"
   ]
  },
  {
   "cell_type": "code",
   "execution_count": 26,
   "id": "64eafe1f-8192-4c6a-a0b4-99df5b0825dd",
   "metadata": {},
   "outputs": [
    {
     "name": "stdout",
     "output_type": "stream",
     "text": [
      "0\n",
      "1\n",
      "1\n",
      "2\n",
      "3\n",
      "5\n",
      "8\n",
      "13\n",
      "21\n",
      "34\n"
     ]
    }
   ],
   "source": [
    "for i in fibonacii(10):\n",
    "    print(i)"
   ]
  },
  {
   "cell_type": "code",
   "execution_count": 54,
   "id": "3a3dc50f-0283-43d5-9631-df0a8543110e",
   "metadata": {},
   "outputs": [],
   "source": [
    "#using next\n",
    "def prime():\n",
    "    a=2\n",
    "    while True:\n",
    "        b=0\n",
    "        for i in range(1,a+1):\n",
    "            if a%i==0:\n",
    "                b+=1\n",
    "                if b==3:\n",
    "                    break\n",
    "        else:\n",
    "            yield a\n",
    "        a+=1\n",
    "        "
   ]
  },
  {
   "cell_type": "code",
   "execution_count": 55,
   "id": "5d97e5ed-89d4-43b5-bb2d-1fc1e6317561",
   "metadata": {},
   "outputs": [
    {
     "name": "stdout",
     "output_type": "stream",
     "text": [
      "2\n",
      "3\n",
      "5\n",
      "7\n",
      "11\n",
      "13\n",
      "17\n",
      "19\n",
      "23\n",
      "29\n"
     ]
    }
   ],
   "source": [
    "p=prime()\n",
    "for i in range(10):\n",
    "    print(next(p))"
   ]
  },
  {
   "cell_type": "code",
   "execution_count": 58,
   "id": "e48a7b65-51dd-41da-840e-1ceb4e1782f2",
   "metadata": {},
   "outputs": [],
   "source": [
    "#lambda function\n",
    "a=lambda x:x**2 "
   ]
  },
  {
   "cell_type": "code",
   "execution_count": 59,
   "id": "1144bc91-e4d5-4226-b80a-1e6fd1534fa8",
   "metadata": {},
   "outputs": [
    {
     "data": {
      "text/plain": [
       "16"
      ]
     },
     "execution_count": 59,
     "metadata": {},
     "output_type": "execute_result"
    }
   ],
   "source": [
    "a(4)"
   ]
  },
  {
   "cell_type": "code",
   "execution_count": 64,
   "id": "1206d227-3ac3-4232-8ac2-0c2a1829f5a2",
   "metadata": {},
   "outputs": [
    {
     "data": {
      "text/plain": [
       "[1, 4, 9, 16, 25, 36]"
      ]
     },
     "execution_count": 64,
     "metadata": {},
     "output_type": "execute_result"
    }
   ],
   "source": [
    "#Map function list funstion is needed to look after\n",
    "l1=[1,2,3,4,5,6]\n",
    "list(map(lambda x:x**2,l1))"
   ]
  },
  {
   "cell_type": "code",
   "execution_count": 65,
   "id": "cf0b6c64-615d-4209-8a3c-074ea20ed2b8",
   "metadata": {},
   "outputs": [
    {
     "data": {
      "text/plain": [
       "[1, 4, 7, 10, 13, 16]"
      ]
     },
     "execution_count": 65,
     "metadata": {},
     "output_type": "execute_result"
    }
   ],
   "source": [
    "l2=[0,2,4,6,8,10]\n",
    "list(map(lambda x,y:x+y,l1,l2))"
   ]
  },
  {
   "cell_type": "code",
   "execution_count": 67,
   "id": "b3b4400f-cfce-4f4d-acb0-671184b9a37a",
   "metadata": {},
   "outputs": [
    {
     "data": {
      "text/plain": [
       "21"
      ]
     },
     "execution_count": 67,
     "metadata": {},
     "output_type": "execute_result"
    }
   ],
   "source": [
    "#reduce function. wee need to import it first\n",
    "from functools import reduce\n",
    "reduce(lambda x,y:x+y,l1)"
   ]
  },
  {
   "cell_type": "code",
   "execution_count": 70,
   "id": "9c84c75d-78ea-4aaf-93f3-3f5007797ac2",
   "metadata": {},
   "outputs": [
    {
     "data": {
      "text/plain": [
       "[2, 4, 6]"
      ]
     },
     "execution_count": 70,
     "metadata": {},
     "output_type": "execute_result"
    }
   ],
   "source": [
    "#filter function . we need list to look after \n",
    "list(filter(lambda x:x%2==0, l1))"
   ]
  },
  {
   "cell_type": "code",
   "execution_count": null,
   "id": "5219735a-55ca-44ac-a624-3cc0ad6145c7",
   "metadata": {},
   "outputs": [],
   "source": []
  }
 ],
 "metadata": {
  "kernelspec": {
   "display_name": "Python 3 (ipykernel)",
   "language": "python",
   "name": "python3"
  },
  "language_info": {
   "codemirror_mode": {
    "name": "ipython",
    "version": 3
   },
   "file_extension": ".py",
   "mimetype": "text/x-python",
   "name": "python",
   "nbconvert_exporter": "python",
   "pygments_lexer": "ipython3",
   "version": "3.10.8"
  }
 },
 "nbformat": 4,
 "nbformat_minor": 5
}
