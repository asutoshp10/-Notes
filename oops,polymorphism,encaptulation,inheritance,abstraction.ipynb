{
 "cells": [
  {
   "cell_type": "code",
   "execution_count": 5,
   "id": "6345afed-12ed-462f-a313-4738c748057e",
   "metadata": {},
   "outputs": [],
   "source": [
    "# list() is like a class and '.append' is a function inside a class\n",
    "#self is used to bind the function with the class\n",
    "#__init__ is used to initiliase the value to the class not to the function\n",
    "class ap:\n",
    "    def __init__(self,name,age,gender):\n",
    "        self.name=name\n",
    "        self.age=age\n",
    "        self.gender=gender\n",
    "    def showcase(self):\n",
    "        return (self.name,self.age,self.gender)"
   ]
  },
  {
   "cell_type": "code",
   "execution_count": 6,
   "id": "c49697ef-cd5b-4009-a664-573cebc2d0f6",
   "metadata": {},
   "outputs": [],
   "source": [
    "a=ap('austosh pradhan',18,'male')"
   ]
  },
  {
   "cell_type": "code",
   "execution_count": 11,
   "id": "35bf952a-9458-4dd4-99c9-896eaa600bd8",
   "metadata": {},
   "outputs": [
    {
     "data": {
      "text/plain": [
       "('austosh pradhan', 18, 'male')"
      ]
     },
     "execution_count": 11,
     "metadata": {},
     "output_type": "execute_result"
    }
   ],
   "source": [
    "a.showcase()"
   ]
  },
  {
   "cell_type": "code",
   "execution_count": 15,
   "id": "ffab9e82-3d6f-4f94-acc3-9bd7fefef2cc",
   "metadata": {},
   "outputs": [],
   "source": [
    "#here we will give input in function\n",
    "class ap1:\n",
    "    def showcase(self,name,age,gender):\n",
    "        return(name,age,gender)"
   ]
  },
  {
   "cell_type": "code",
   "execution_count": 16,
   "id": "0bd70262-c69a-44ed-98fc-1c29e5f6e9b7",
   "metadata": {},
   "outputs": [],
   "source": [
    "a=ap1()"
   ]
  },
  {
   "cell_type": "code",
   "execution_count": 17,
   "id": "8fff7aa8-6fdd-4638-99b6-515cc26bd1b8",
   "metadata": {},
   "outputs": [
    {
     "data": {
      "text/plain": [
       "('asutosh pradhan', 18, 'male')"
      ]
     },
     "execution_count": 17,
     "metadata": {},
     "output_type": "execute_result"
    }
   ],
   "source": [
    "a.showcase('asutosh pradhan',18,'male')"
   ]
  },
  {
   "cell_type": "code",
   "execution_count": 29,
   "id": "3b0bc062-cb7d-4a8d-a579-8f2d83816567",
   "metadata": {},
   "outputs": [],
   "source": [
    "#polymorphism\n",
    "class data_science:\n",
    "    def cource_price(self,price):\n",
    "        print('The price of data science course is:',price)"
   ]
  },
  {
   "cell_type": "code",
   "execution_count": 28,
   "id": "f0a12670-36f2-4be0-a98d-aed1bbb9e48e",
   "metadata": {},
   "outputs": [],
   "source": [
    "class web_devlopment:\n",
    "    def course_price(self,price):\n",
    "        print('The price of web devlopment course is:',price)"
   ]
  },
  {
   "cell_type": "code",
   "execution_count": 30,
   "id": "cb1e0cd4-12ac-443d-9fa6-8d25e58123ce",
   "metadata": {},
   "outputs": [],
   "source": [
    "a=data_science()\n",
    "b=web_devlopment()"
   ]
  },
  {
   "cell_type": "code",
   "execution_count": 31,
   "id": "e006e8bf-6534-4051-aedc-8a45bfcd18e6",
   "metadata": {},
   "outputs": [
    {
     "name": "stdout",
     "output_type": "stream",
     "text": [
      "The price of data science course is: 3500\n"
     ]
    }
   ],
   "source": [
    "a.cource_price(3500)"
   ]
  },
  {
   "cell_type": "code",
   "execution_count": 32,
   "id": "ed3f4965-078f-4a49-b67c-5137bc5d0141",
   "metadata": {},
   "outputs": [
    {
     "name": "stdout",
     "output_type": "stream",
     "text": [
      "The price of web devlopment course is: 7000\n"
     ]
    }
   ],
   "source": [
    "b.course_price(7000)"
   ]
  },
  {
   "cell_type": "code",
   "execution_count": 42,
   "id": "82d133c9-581e-4a8a-9403-3d22ba4d5d8a",
   "metadata": {},
   "outputs": [],
   "source": [
    "#encaptulation here name and balance cannot be changed\n",
    "class atm:\n",
    "    def __init__(self,name,balance):\n",
    "        self.__name=name\n",
    "        self.__balance=balance\n",
    "    def deposit(self,amount):\n",
    "        self.__balance+=amount\n",
    "    def withraw(self,amount):\n",
    "        if self.__balance>=amount:\n",
    "            self.__balance-=amount\n",
    "        else:\n",
    "            print('Insuficient balance')\n",
    "    def show_details(self):\n",
    "        return (self.__name,self.__balance)\n",
    "        "
   ]
  },
  {
   "cell_type": "code",
   "execution_count": 43,
   "id": "7ade8411-856e-4bc1-b6ae-14b521ff3b73",
   "metadata": {},
   "outputs": [],
   "source": [
    "a=atm('Asutosh Pradhan',20000)"
   ]
  },
  {
   "cell_type": "code",
   "execution_count": 44,
   "id": "ef5a2f85-ba76-49c8-bf17-561586d6508d",
   "metadata": {},
   "outputs": [],
   "source": [
    "a.deposit(10000)"
   ]
  },
  {
   "cell_type": "code",
   "execution_count": 45,
   "id": "99288db0-1c1f-47eb-90b5-99483481549c",
   "metadata": {},
   "outputs": [],
   "source": [
    "a.withraw(2000)"
   ]
  },
  {
   "cell_type": "code",
   "execution_count": 46,
   "id": "44154432-61d3-4ee3-af5b-b613a08a6a89",
   "metadata": {},
   "outputs": [
    {
     "data": {
      "text/plain": [
       "('Asutosh Pradhan', 28000)"
      ]
     },
     "execution_count": 46,
     "metadata": {},
     "output_type": "execute_result"
    }
   ],
   "source": [
    "a.show_details()"
   ]
  },
  {
   "cell_type": "code",
   "execution_count": 56,
   "id": "1dbd02a8-8800-49eb-a4f6-48fc956e33ba",
   "metadata": {},
   "outputs": [],
   "source": [
    "#inheritance\n",
    "#(i) inheritance parents to child\n",
    "class class1:\n",
    "    def test_class1(self):\n",
    "        print('This is class 1')\n",
    "class class2(class1):\n",
    "    def test_class2(self):\n",
    "        print('this is class 2')\n"
   ]
  },
  {
   "cell_type": "code",
   "execution_count": 57,
   "id": "c27452ce-49fd-4b59-b4de-1db969f22711",
   "metadata": {},
   "outputs": [],
   "source": [
    "a=class2()"
   ]
  },
  {
   "cell_type": "code",
   "execution_count": 58,
   "id": "99d81262-9713-4b05-b1f0-64d42fd33186",
   "metadata": {},
   "outputs": [
    {
     "name": "stdout",
     "output_type": "stream",
     "text": [
      "this is class 2\n"
     ]
    }
   ],
   "source": [
    "a.test_class2()"
   ]
  },
  {
   "cell_type": "code",
   "execution_count": 59,
   "id": "b6783a91-a5c7-4249-a366-269885c665ca",
   "metadata": {},
   "outputs": [
    {
     "name": "stdout",
     "output_type": "stream",
     "text": [
      "This is class 1\n"
     ]
    }
   ],
   "source": [
    "a.test_class1()"
   ]
  },
  {
   "cell_type": "code",
   "execution_count": 62,
   "id": "18bfa932-0d15-440a-b2b2-0c08c4a25b66",
   "metadata": {},
   "outputs": [],
   "source": [
    "#(ii)grand parents to parenta to child\n",
    "class class1:\n",
    "    def test_class1(self):\n",
    "        print('This is class 1')\n",
    "class class2(class1):\n",
    "    def test_class2(self):\n",
    "        print('this is class 2')\n",
    "class class3(class2):\n",
    "    def test_class3(self):\n",
    "        print('This is class 3')\n"
   ]
  },
  {
   "cell_type": "code",
   "execution_count": 63,
   "id": "8a8adca1-3915-405a-9771-0c5dec70bc7e",
   "metadata": {},
   "outputs": [],
   "source": [
    "a=class3()"
   ]
  },
  {
   "cell_type": "code",
   "execution_count": 64,
   "id": "88dccdf5-1c9e-4216-8914-efbaca1d0b71",
   "metadata": {},
   "outputs": [
    {
     "name": "stdout",
     "output_type": "stream",
     "text": [
      "This is class 1\n"
     ]
    }
   ],
   "source": [
    "a.test_class1()"
   ]
  },
  {
   "cell_type": "code",
   "execution_count": 65,
   "id": "7c33f22d-8454-46b4-8b34-90279c5f0c00",
   "metadata": {},
   "outputs": [
    {
     "name": "stdout",
     "output_type": "stream",
     "text": [
      "this is class 2\n"
     ]
    }
   ],
   "source": [
    "a.test_class2()"
   ]
  },
  {
   "cell_type": "code",
   "execution_count": 66,
   "id": "b772656a-c03b-4b1d-a040-e612ccca675a",
   "metadata": {},
   "outputs": [
    {
     "name": "stdout",
     "output_type": "stream",
     "text": [
      "This is class 3\n"
     ]
    }
   ],
   "source": [
    "a.test_class3()"
   ]
  },
  {
   "cell_type": "code",
   "execution_count": 67,
   "id": "b56b5e39-19b6-4657-b9aa-3112506db00a",
   "metadata": {},
   "outputs": [],
   "source": [
    "#(iii)father + mother = child\n",
    "class class1:\n",
    "    def test_class1(self):\n",
    "        print('This is class 1')\n",
    "class class2():\n",
    "    def test_class2(self):\n",
    "        print('this is class 2')\n",
    "class class3(class2,class3):\n",
    "    def test_class3(self):\n",
    "        print('This is class 3')"
   ]
  },
  {
   "cell_type": "code",
   "execution_count": 68,
   "id": "72b099bc-9ce3-4f5e-864d-1825413038d7",
   "metadata": {},
   "outputs": [],
   "source": [
    "a=class3()"
   ]
  },
  {
   "cell_type": "code",
   "execution_count": 69,
   "id": "7e50100b-9b91-4a75-94f1-00837927d868",
   "metadata": {},
   "outputs": [
    {
     "name": "stdout",
     "output_type": "stream",
     "text": [
      "This is class 1\n"
     ]
    }
   ],
   "source": [
    "a.test_class1()"
   ]
  },
  {
   "cell_type": "code",
   "execution_count": 70,
   "id": "5d0b4878-741a-464b-b4a5-c157608842af",
   "metadata": {},
   "outputs": [
    {
     "name": "stdout",
     "output_type": "stream",
     "text": [
      "this is class 2\n"
     ]
    }
   ],
   "source": [
    "a.test_class2()"
   ]
  },
  {
   "cell_type": "code",
   "execution_count": 71,
   "id": "d0d5b33f-3b31-4656-8741-a1692791b37d",
   "metadata": {},
   "outputs": [
    {
     "name": "stdout",
     "output_type": "stream",
     "text": [
      "This is class 3\n"
     ]
    }
   ],
   "source": [
    "a.test_class3()"
   ]
  },
  {
   "cell_type": "code",
   "execution_count": null,
   "id": "2e3aea91-5b81-492c-aca8-7c741c959787",
   "metadata": {},
   "outputs": [],
   "source": []
  }
 ],
 "metadata": {
  "kernelspec": {
   "display_name": "Python 3 (ipykernel)",
   "language": "python",
   "name": "python3"
  },
  "language_info": {
   "codemirror_mode": {
    "name": "ipython",
    "version": 3
   },
   "file_extension": ".py",
   "mimetype": "text/x-python",
   "name": "python",
   "nbconvert_exporter": "python",
   "pygments_lexer": "ipython3",
   "version": "3.10.8"
  }
 },
 "nbformat": 4,
 "nbformat_minor": 5
}
